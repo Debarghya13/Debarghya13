{
 "cells": [
  {
   "cell_type": "code",
   "execution_count": 1,
   "id": "63223880",
   "metadata": {},
   "outputs": [],
   "source": [
    "import pandas as pd\n",
    "import numpy as np\n",
    "import matplotlib.pyplot as plt"
   ]
  },
  {
   "cell_type": "code",
   "execution_count": 2,
   "id": "ee4b5991",
   "metadata": {},
   "outputs": [],
   "source": [
    "from pandas import Series"
   ]
  },
  {
   "cell_type": "code",
   "execution_count": 3,
   "id": "ed5c33d4",
   "metadata": {},
   "outputs": [],
   "source": [
    "from sklearn.linear_model import LogisticRegression\n",
    "from sklearn.tree import DecisionTreeClassifier\n",
    "from sklearn.metrics import confusion_matrix\n",
    "from sklearn.model_selection import train_test_split\n",
    "from sklearn.preprocessing import LabelEncoder"
   ]
  },
  {
   "cell_type": "code",
   "execution_count": 4,
   "id": "40f591db",
   "metadata": {},
   "outputs": [],
   "source": [
    "taxtrain_data =  pd.read_csv(\"https://raw.githubusercontent.com/dphi-official/Datasets/master/tax_payers/train_set_label.csv\" )\n",
    "taxtest_data =  pd.read_csv('https://raw.githubusercontent.com/dphi-official/Datasets/master/tax_payers/test_set_label.csv')"
   ]
  },
  {
   "cell_type": "code",
   "execution_count": 5,
   "id": "74b513e4",
   "metadata": {},
   "outputs": [
    {
     "data": {
      "text/html": [
       "<div>\n",
       "<style scoped>\n",
       "    .dataframe tbody tr th:only-of-type {\n",
       "        vertical-align: middle;\n",
       "    }\n",
       "\n",
       "    .dataframe tbody tr th {\n",
       "        vertical-align: top;\n",
       "    }\n",
       "\n",
       "    .dataframe thead th {\n",
       "        text-align: right;\n",
       "    }\n",
       "</style>\n",
       "<table border=\"1\" class=\"dataframe\">\n",
       "  <thead>\n",
       "    <tr style=\"text-align: right;\">\n",
       "      <th></th>\n",
       "      <th>Unnamed: 0</th>\n",
       "      <th>HHI</th>\n",
       "      <th>HHDL</th>\n",
       "      <th>Married</th>\n",
       "      <th>CollegGrads</th>\n",
       "      <th>AHHAge</th>\n",
       "      <th>Cars</th>\n",
       "      <th>Filed in 2017</th>\n",
       "      <th>Filed in 2016</th>\n",
       "      <th>Filed in 2015</th>\n",
       "      <th>PoliticalParty</th>\n",
       "    </tr>\n",
       "  </thead>\n",
       "  <tbody>\n",
       "    <tr>\n",
       "      <th>0</th>\n",
       "      <td>61</td>\n",
       "      <td>183414</td>\n",
       "      <td>-12402</td>\n",
       "      <td>1</td>\n",
       "      <td>2</td>\n",
       "      <td>28</td>\n",
       "      <td>1</td>\n",
       "      <td>0</td>\n",
       "      <td>0</td>\n",
       "      <td>1</td>\n",
       "      <td>Democrat</td>\n",
       "    </tr>\n",
       "    <tr>\n",
       "      <th>1</th>\n",
       "      <td>501</td>\n",
       "      <td>129786</td>\n",
       "      <td>700251</td>\n",
       "      <td>2</td>\n",
       "      <td>5</td>\n",
       "      <td>63</td>\n",
       "      <td>3</td>\n",
       "      <td>0</td>\n",
       "      <td>0</td>\n",
       "      <td>0</td>\n",
       "      <td>Republican</td>\n",
       "    </tr>\n",
       "    <tr>\n",
       "      <th>2</th>\n",
       "      <td>658</td>\n",
       "      <td>268343</td>\n",
       "      <td>493411</td>\n",
       "      <td>2</td>\n",
       "      <td>4</td>\n",
       "      <td>44</td>\n",
       "      <td>1</td>\n",
       "      <td>1</td>\n",
       "      <td>0</td>\n",
       "      <td>1</td>\n",
       "      <td>Independent</td>\n",
       "    </tr>\n",
       "    <tr>\n",
       "      <th>3</th>\n",
       "      <td>703</td>\n",
       "      <td>290506</td>\n",
       "      <td>-433408</td>\n",
       "      <td>1</td>\n",
       "      <td>1</td>\n",
       "      <td>28</td>\n",
       "      <td>5</td>\n",
       "      <td>1</td>\n",
       "      <td>0</td>\n",
       "      <td>1</td>\n",
       "      <td>Republican</td>\n",
       "    </tr>\n",
       "    <tr>\n",
       "      <th>4</th>\n",
       "      <td>702</td>\n",
       "      <td>90108</td>\n",
       "      <td>907135</td>\n",
       "      <td>1</td>\n",
       "      <td>3</td>\n",
       "      <td>57</td>\n",
       "      <td>5</td>\n",
       "      <td>1</td>\n",
       "      <td>1</td>\n",
       "      <td>0</td>\n",
       "      <td>Democrat</td>\n",
       "    </tr>\n",
       "  </tbody>\n",
       "</table>\n",
       "</div>"
      ],
      "text/plain": [
       "   Unnamed: 0     HHI    HHDL  Married  CollegGrads  AHHAge  Cars  \\\n",
       "0          61  183414  -12402        1            2      28     1   \n",
       "1         501  129786  700251        2            5      63     3   \n",
       "2         658  268343  493411        2            4      44     1   \n",
       "3         703  290506 -433408        1            1      28     5   \n",
       "4         702   90108  907135        1            3      57     5   \n",
       "\n",
       "   Filed in 2017  Filed in 2016  Filed in 2015 PoliticalParty  \n",
       "0              0              0              1       Democrat  \n",
       "1              0              0              0     Republican  \n",
       "2              1              0              1    Independent  \n",
       "3              1              0              1     Republican  \n",
       "4              1              1              0       Democrat  "
      ]
     },
     "execution_count": 5,
     "metadata": {},
     "output_type": "execute_result"
    }
   ],
   "source": [
    "taxtrain_data.head()"
   ]
  },
  {
   "cell_type": "code",
   "execution_count": 6,
   "id": "141f0117",
   "metadata": {},
   "outputs": [
    {
     "data": {
      "text/plain": [
       "Democrat       269\n",
       "Independent    269\n",
       "Republican     265\n",
       "Name: PoliticalParty, dtype: int64"
      ]
     },
     "execution_count": 6,
     "metadata": {},
     "output_type": "execute_result"
    }
   ],
   "source": [
    "taxtrain_data['PoliticalParty'].value_counts()"
   ]
  },
  {
   "cell_type": "code",
   "execution_count": 7,
   "id": "f14c04f4",
   "metadata": {},
   "outputs": [
    {
     "name": "stdout",
     "output_type": "stream",
     "text": [
      "<class 'pandas.core.frame.DataFrame'>\n",
      "RangeIndex: 803 entries, 0 to 802\n",
      "Data columns (total 11 columns):\n",
      " #   Column          Non-Null Count  Dtype \n",
      "---  ------          --------------  ----- \n",
      " 0   Unnamed: 0      803 non-null    int64 \n",
      " 1   HHI             803 non-null    int64 \n",
      " 2   HHDL            803 non-null    int64 \n",
      " 3   Married         803 non-null    int64 \n",
      " 4   CollegGrads     803 non-null    int64 \n",
      " 5   AHHAge          803 non-null    int64 \n",
      " 6   Cars            803 non-null    int64 \n",
      " 7   Filed in 2017   803 non-null    int64 \n",
      " 8   Filed in 2016   803 non-null    int64 \n",
      " 9   Filed in 2015   803 non-null    int64 \n",
      " 10  PoliticalParty  803 non-null    object\n",
      "dtypes: int64(10), object(1)\n",
      "memory usage: 69.1+ KB\n"
     ]
    }
   ],
   "source": [
    "taxtrain_data.info()"
   ]
  },
  {
   "cell_type": "code",
   "execution_count": 8,
   "id": "8ae4a2d6",
   "metadata": {},
   "outputs": [
    {
     "data": {
      "text/html": [
       "<div>\n",
       "<style scoped>\n",
       "    .dataframe tbody tr th:only-of-type {\n",
       "        vertical-align: middle;\n",
       "    }\n",
       "\n",
       "    .dataframe tbody tr th {\n",
       "        vertical-align: top;\n",
       "    }\n",
       "\n",
       "    .dataframe thead th {\n",
       "        text-align: right;\n",
       "    }\n",
       "</style>\n",
       "<table border=\"1\" class=\"dataframe\">\n",
       "  <thead>\n",
       "    <tr style=\"text-align: right;\">\n",
       "      <th></th>\n",
       "      <th>Unnamed: 0</th>\n",
       "      <th>HHI</th>\n",
       "      <th>HHDL</th>\n",
       "      <th>Married</th>\n",
       "      <th>CollegGrads</th>\n",
       "      <th>AHHAge</th>\n",
       "      <th>Cars</th>\n",
       "      <th>Filed in 2017</th>\n",
       "      <th>Filed in 2016</th>\n",
       "      <th>Filed in 2015</th>\n",
       "    </tr>\n",
       "  </thead>\n",
       "  <tbody>\n",
       "    <tr>\n",
       "      <th>count</th>\n",
       "      <td>803.000000</td>\n",
       "      <td>803.000000</td>\n",
       "      <td>803.000000</td>\n",
       "      <td>803.000000</td>\n",
       "      <td>803.000000</td>\n",
       "      <td>803.000000</td>\n",
       "      <td>803.000000</td>\n",
       "      <td>803.000000</td>\n",
       "      <td>803.000000</td>\n",
       "      <td>803.000000</td>\n",
       "    </tr>\n",
       "    <tr>\n",
       "      <th>mean</th>\n",
       "      <td>502.241594</td>\n",
       "      <td>155402.688667</td>\n",
       "      <td>-15351.252802</td>\n",
       "      <td>0.971357</td>\n",
       "      <td>2.607721</td>\n",
       "      <td>60.559153</td>\n",
       "      <td>2.435866</td>\n",
       "      <td>0.506849</td>\n",
       "      <td>0.509340</td>\n",
       "      <td>0.516812</td>\n",
       "    </tr>\n",
       "    <tr>\n",
       "      <th>std</th>\n",
       "      <td>288.460068</td>\n",
       "      <td>86788.153213</td>\n",
       "      <td>595184.302049</td>\n",
       "      <td>0.803935</td>\n",
       "      <td>1.675492</td>\n",
       "      <td>25.071219</td>\n",
       "      <td>1.703542</td>\n",
       "      <td>0.500265</td>\n",
       "      <td>0.500224</td>\n",
       "      <td>0.500029</td>\n",
       "    </tr>\n",
       "    <tr>\n",
       "      <th>min</th>\n",
       "      <td>1.000000</td>\n",
       "      <td>185.000000</td>\n",
       "      <td>-999994.000000</td>\n",
       "      <td>0.000000</td>\n",
       "      <td>0.000000</td>\n",
       "      <td>18.000000</td>\n",
       "      <td>0.000000</td>\n",
       "      <td>0.000000</td>\n",
       "      <td>0.000000</td>\n",
       "      <td>0.000000</td>\n",
       "    </tr>\n",
       "    <tr>\n",
       "      <th>25%</th>\n",
       "      <td>254.500000</td>\n",
       "      <td>82373.000000</td>\n",
       "      <td>-516765.000000</td>\n",
       "      <td>0.000000</td>\n",
       "      <td>1.000000</td>\n",
       "      <td>38.000000</td>\n",
       "      <td>1.000000</td>\n",
       "      <td>0.000000</td>\n",
       "      <td>0.000000</td>\n",
       "      <td>0.000000</td>\n",
       "    </tr>\n",
       "    <tr>\n",
       "      <th>50%</th>\n",
       "      <td>501.000000</td>\n",
       "      <td>156542.000000</td>\n",
       "      <td>-24440.000000</td>\n",
       "      <td>1.000000</td>\n",
       "      <td>3.000000</td>\n",
       "      <td>60.000000</td>\n",
       "      <td>2.000000</td>\n",
       "      <td>1.000000</td>\n",
       "      <td>1.000000</td>\n",
       "      <td>1.000000</td>\n",
       "    </tr>\n",
       "    <tr>\n",
       "      <th>75%</th>\n",
       "      <td>754.500000</td>\n",
       "      <td>230772.000000</td>\n",
       "      <td>518135.500000</td>\n",
       "      <td>2.000000</td>\n",
       "      <td>4.000000</td>\n",
       "      <td>82.000000</td>\n",
       "      <td>4.000000</td>\n",
       "      <td>1.000000</td>\n",
       "      <td>1.000000</td>\n",
       "      <td>1.000000</td>\n",
       "    </tr>\n",
       "    <tr>\n",
       "      <th>max</th>\n",
       "      <td>1004.000000</td>\n",
       "      <td>299374.000000</td>\n",
       "      <td>999628.000000</td>\n",
       "      <td>2.000000</td>\n",
       "      <td>5.000000</td>\n",
       "      <td>105.000000</td>\n",
       "      <td>5.000000</td>\n",
       "      <td>1.000000</td>\n",
       "      <td>1.000000</td>\n",
       "      <td>1.000000</td>\n",
       "    </tr>\n",
       "  </tbody>\n",
       "</table>\n",
       "</div>"
      ],
      "text/plain": [
       "        Unnamed: 0            HHI           HHDL     Married  CollegGrads  \\\n",
       "count   803.000000     803.000000     803.000000  803.000000   803.000000   \n",
       "mean    502.241594  155402.688667  -15351.252802    0.971357     2.607721   \n",
       "std     288.460068   86788.153213  595184.302049    0.803935     1.675492   \n",
       "min       1.000000     185.000000 -999994.000000    0.000000     0.000000   \n",
       "25%     254.500000   82373.000000 -516765.000000    0.000000     1.000000   \n",
       "50%     501.000000  156542.000000  -24440.000000    1.000000     3.000000   \n",
       "75%     754.500000  230772.000000  518135.500000    2.000000     4.000000   \n",
       "max    1004.000000  299374.000000  999628.000000    2.000000     5.000000   \n",
       "\n",
       "           AHHAge        Cars  Filed in 2017  Filed in 2016  Filed in 2015  \n",
       "count  803.000000  803.000000     803.000000     803.000000     803.000000  \n",
       "mean    60.559153    2.435866       0.506849       0.509340       0.516812  \n",
       "std     25.071219    1.703542       0.500265       0.500224       0.500029  \n",
       "min     18.000000    0.000000       0.000000       0.000000       0.000000  \n",
       "25%     38.000000    1.000000       0.000000       0.000000       0.000000  \n",
       "50%     60.000000    2.000000       1.000000       1.000000       1.000000  \n",
       "75%     82.000000    4.000000       1.000000       1.000000       1.000000  \n",
       "max    105.000000    5.000000       1.000000       1.000000       1.000000  "
      ]
     },
     "execution_count": 8,
     "metadata": {},
     "output_type": "execute_result"
    }
   ],
   "source": [
    "taxtrain_data.describe()"
   ]
  },
  {
   "cell_type": "code",
   "execution_count": 9,
   "id": "176eddb4",
   "metadata": {},
   "outputs": [
    {
     "data": {
      "text/html": [
       "<div>\n",
       "<style scoped>\n",
       "    .dataframe tbody tr th:only-of-type {\n",
       "        vertical-align: middle;\n",
       "    }\n",
       "\n",
       "    .dataframe tbody tr th {\n",
       "        vertical-align: top;\n",
       "    }\n",
       "\n",
       "    .dataframe thead th {\n",
       "        text-align: right;\n",
       "    }\n",
       "</style>\n",
       "<table border=\"1\" class=\"dataframe\">\n",
       "  <thead>\n",
       "    <tr style=\"text-align: right;\">\n",
       "      <th></th>\n",
       "      <th>Unnamed: 0</th>\n",
       "      <th>HHI</th>\n",
       "      <th>HHDL</th>\n",
       "      <th>Married</th>\n",
       "      <th>CollegGrads</th>\n",
       "      <th>AHHAge</th>\n",
       "      <th>Cars</th>\n",
       "      <th>Filed in 2017</th>\n",
       "      <th>Filed in 2016</th>\n",
       "      <th>Filed in 2015</th>\n",
       "    </tr>\n",
       "  </thead>\n",
       "  <tbody>\n",
       "    <tr>\n",
       "      <th>0</th>\n",
       "      <td>17</td>\n",
       "      <td>253274</td>\n",
       "      <td>-633752</td>\n",
       "      <td>2</td>\n",
       "      <td>1</td>\n",
       "      <td>94</td>\n",
       "      <td>3</td>\n",
       "      <td>0</td>\n",
       "      <td>1</td>\n",
       "      <td>1</td>\n",
       "    </tr>\n",
       "    <tr>\n",
       "      <th>1</th>\n",
       "      <td>590</td>\n",
       "      <td>47107</td>\n",
       "      <td>322850</td>\n",
       "      <td>0</td>\n",
       "      <td>1</td>\n",
       "      <td>30</td>\n",
       "      <td>2</td>\n",
       "      <td>1</td>\n",
       "      <td>1</td>\n",
       "      <td>0</td>\n",
       "    </tr>\n",
       "    <tr>\n",
       "      <th>2</th>\n",
       "      <td>224</td>\n",
       "      <td>111874</td>\n",
       "      <td>300583</td>\n",
       "      <td>0</td>\n",
       "      <td>2</td>\n",
       "      <td>46</td>\n",
       "      <td>3</td>\n",
       "      <td>0</td>\n",
       "      <td>1</td>\n",
       "      <td>1</td>\n",
       "    </tr>\n",
       "    <tr>\n",
       "      <th>3</th>\n",
       "      <td>960</td>\n",
       "      <td>96670</td>\n",
       "      <td>107419</td>\n",
       "      <td>0</td>\n",
       "      <td>3</td>\n",
       "      <td>77</td>\n",
       "      <td>5</td>\n",
       "      <td>0</td>\n",
       "      <td>0</td>\n",
       "      <td>0</td>\n",
       "    </tr>\n",
       "    <tr>\n",
       "      <th>4</th>\n",
       "      <td>57</td>\n",
       "      <td>128669</td>\n",
       "      <td>341273</td>\n",
       "      <td>0</td>\n",
       "      <td>0</td>\n",
       "      <td>92</td>\n",
       "      <td>4</td>\n",
       "      <td>1</td>\n",
       "      <td>1</td>\n",
       "      <td>1</td>\n",
       "    </tr>\n",
       "  </tbody>\n",
       "</table>\n",
       "</div>"
      ],
      "text/plain": [
       "   Unnamed: 0     HHI    HHDL  Married  CollegGrads  AHHAge  Cars  \\\n",
       "0          17  253274 -633752        2            1      94     3   \n",
       "1         590   47107  322850        0            1      30     2   \n",
       "2         224  111874  300583        0            2      46     3   \n",
       "3         960   96670  107419        0            3      77     5   \n",
       "4          57  128669  341273        0            0      92     4   \n",
       "\n",
       "   Filed in 2017  Filed in 2016  Filed in 2015  \n",
       "0              0              1              1  \n",
       "1              1              1              0  \n",
       "2              0              1              1  \n",
       "3              0              0              0  \n",
       "4              1              1              1  "
      ]
     },
     "execution_count": 9,
     "metadata": {},
     "output_type": "execute_result"
    }
   ],
   "source": [
    "taxtest_data.head()"
   ]
  },
  {
   "cell_type": "code",
   "execution_count": 10,
   "id": "988a471c",
   "metadata": {},
   "outputs": [
    {
     "data": {
      "image/png": "[encoded data removed]",
      "text/plain": [
       "<Figure size 432x288 with 1 Axes>"
      ]
     },
     "metadata": {
      "needs_background": "light"
     },
     "output_type": "display_data"
    }
   ],
   "source": [
    "plt.scatter(taxtrain_data['HHI'], taxtrain_data['HHDL'])\n",
    "plt.show()"
   ]
  },
  {
   "cell_type": "code",
   "execution_count": 11,
   "id": "e6bb3880",
   "metadata": {},
   "outputs": [],
   "source": [
    "import seaborn as sns"
   ]
  },
  {
   "cell_type": "code",
   "execution_count": 12,
   "id": "153e25c6",
   "metadata": {},
   "outputs": [
    {
     "data": {
      "text/plain": [
       "<AxesSubplot:>"
      ]
     },
     "execution_count": 12,
     "metadata": {},
     "output_type": "execute_result"
    },
    {
     "data": {
      "image/png": "[encoded data removed]",
      "text/plain": [
       "<Figure size 720x720 with 2 Axes>"
      ]
     },
     "metadata": {
      "needs_background": "light"
     },
     "output_type": "display_data"
    }
   ],
   "source": [
    "plt.figure(figsize = (10, 10))\n",
    "sns.heatmap(taxtrain_data.corr(), annot = True)"
   ]
  },
  {
   "cell_type": "code",
   "execution_count": 13,
   "id": "670cb491",
   "metadata": {},
   "outputs": [
    {
     "data": {
      "text/html": [
       "<div>\n",
       "<style scoped>\n",
       "    .dataframe tbody tr th:only-of-type {\n",
       "        vertical-align: middle;\n",
       "    }\n",
       "\n",
       "    .dataframe tbody tr th {\n",
       "        vertical-align: top;\n",
       "    }\n",
       "\n",
       "    .dataframe thead th {\n",
       "        text-align: right;\n",
       "    }\n",
       "</style>\n",
       "<table border=\"1\" class=\"dataframe\">\n",
       "  <thead>\n",
       "    <tr style=\"text-align: right;\">\n",
       "      <th></th>\n",
       "      <th>HHI</th>\n",
       "      <th>HHDL</th>\n",
       "      <th>Married</th>\n",
       "      <th>CollegGrads</th>\n",
       "      <th>AHHAge</th>\n",
       "      <th>Cars</th>\n",
       "      <th>Filed in 2017</th>\n",
       "      <th>Filed in 2016</th>\n",
       "      <th>Filed in 2015</th>\n",
       "      <th>PoliticalParty</th>\n",
       "    </tr>\n",
       "  </thead>\n",
       "  <tbody>\n",
       "    <tr>\n",
       "      <th>0</th>\n",
       "      <td>183414</td>\n",
       "      <td>-12402</td>\n",
       "      <td>1</td>\n",
       "      <td>2</td>\n",
       "      <td>28</td>\n",
       "      <td>1</td>\n",
       "      <td>0</td>\n",
       "      <td>0</td>\n",
       "      <td>1</td>\n",
       "      <td>Democrat</td>\n",
       "    </tr>\n",
       "    <tr>\n",
       "      <th>1</th>\n",
       "      <td>129786</td>\n",
       "      <td>700251</td>\n",
       "      <td>2</td>\n",
       "      <td>5</td>\n",
       "      <td>63</td>\n",
       "      <td>3</td>\n",
       "      <td>0</td>\n",
       "      <td>0</td>\n",
       "      <td>0</td>\n",
       "      <td>Republican</td>\n",
       "    </tr>\n",
       "    <tr>\n",
       "      <th>2</th>\n",
       "      <td>268343</td>\n",
       "      <td>493411</td>\n",
       "      <td>2</td>\n",
       "      <td>4</td>\n",
       "      <td>44</td>\n",
       "      <td>1</td>\n",
       "      <td>1</td>\n",
       "      <td>0</td>\n",
       "      <td>1</td>\n",
       "      <td>Independent</td>\n",
       "    </tr>\n",
       "    <tr>\n",
       "      <th>3</th>\n",
       "      <td>290506</td>\n",
       "      <td>-433408</td>\n",
       "      <td>1</td>\n",
       "      <td>1</td>\n",
       "      <td>28</td>\n",
       "      <td>5</td>\n",
       "      <td>1</td>\n",
       "      <td>0</td>\n",
       "      <td>1</td>\n",
       "      <td>Republican</td>\n",
       "    </tr>\n",
       "    <tr>\n",
       "      <th>4</th>\n",
       "      <td>90108</td>\n",
       "      <td>907135</td>\n",
       "      <td>1</td>\n",
       "      <td>3</td>\n",
       "      <td>57</td>\n",
       "      <td>5</td>\n",
       "      <td>1</td>\n",
       "      <td>1</td>\n",
       "      <td>0</td>\n",
       "      <td>Democrat</td>\n",
       "    </tr>\n",
       "  </tbody>\n",
       "</table>\n",
       "</div>"
      ],
      "text/plain": [
       "      HHI    HHDL  Married  CollegGrads  AHHAge  Cars  Filed in 2017  \\\n",
       "0  183414  -12402        1            2      28     1              0   \n",
       "1  129786  700251        2            5      63     3              0   \n",
       "2  268343  493411        2            4      44     1              1   \n",
       "3  290506 -433408        1            1      28     5              1   \n",
       "4   90108  907135        1            3      57     5              1   \n",
       "\n",
       "   Filed in 2016  Filed in 2015 PoliticalParty  \n",
       "0              0              1       Democrat  \n",
       "1              0              0     Republican  \n",
       "2              0              1    Independent  \n",
       "3              0              1     Republican  \n",
       "4              1              0       Democrat  "
      ]
     },
     "execution_count": 13,
     "metadata": {},
     "output_type": "execute_result"
    }
   ],
   "source": [
    "taxtrain_data= taxtrain_data.drop(['Unnamed: 0'], axis= 1)\n",
    "\n",
    "taxtrain_data.head()"
   ]
  },
  {
   "cell_type": "code",
   "execution_count": 15,
   "id": "17da5d5c",
   "metadata": {},
   "outputs": [],
   "source": [
    "trainx_data = taxtrain_data.drop('PoliticalParty', axis= 1)\n",
    "y_train= taxtrain_data.PoliticalParty"
   ]
  },
  {
   "cell_type": "code",
   "execution_count": 16,
   "id": "ddb84de4",
   "metadata": {},
   "outputs": [],
   "source": [
    "from sklearn.preprocessing import StandardScaler\n",
    "std_scale = StandardScaler()\n",
    "X_train= std_scale.fit_transform(trainx_data)"
   ]
  },
  {
   "cell_type": "code",
   "execution_count": 17,
   "id": "12535857",
   "metadata": {},
   "outputs": [],
   "source": [
    "X_train=pd.DataFrame(data=X_train,columns=trainx_data.columns[:])"
   ]
  },
  {
   "cell_type": "code",
   "execution_count": 18,
   "id": "561428f9",
   "metadata": {},
   "outputs": [
    {
     "data": {
      "text/html": [
       "<div>\n",
       "<style scoped>\n",
       "    .dataframe tbody tr th:only-of-type {\n",
       "        vertical-align: middle;\n",
       "    }\n",
       "\n",
       "    .dataframe tbody tr th {\n",
       "        vertical-align: top;\n",
       "    }\n",
       "\n",
       "    .dataframe thead th {\n",
       "        text-align: right;\n",
       "    }\n",
       "</style>\n",
       "<table border=\"1\" class=\"dataframe\">\n",
       "  <thead>\n",
       "    <tr style=\"text-align: right;\">\n",
       "      <th></th>\n",
       "      <th>HHI</th>\n",
       "      <th>HHDL</th>\n",
       "      <th>Married</th>\n",
       "      <th>CollegGrads</th>\n",
       "      <th>AHHAge</th>\n",
       "      <th>Cars</th>\n",
       "      <th>Filed in 2017</th>\n",
       "      <th>Filed in 2016</th>\n",
       "      <th>Filed in 2015</th>\n",
       "    </tr>\n",
       "  </thead>\n",
       "  <tbody>\n",
       "    <tr>\n",
       "      <th>0</th>\n",
       "      <td>0.322956</td>\n",
       "      <td>0.004958</td>\n",
       "      <td>0.035650</td>\n",
       "      <td>-0.362938</td>\n",
       "      <td>-1.299476</td>\n",
       "      <td>-0.843396</td>\n",
       "      <td>-1.013794</td>\n",
       "      <td>-1.018858</td>\n",
       "      <td>0.966923</td>\n",
       "    </tr>\n",
       "    <tr>\n",
       "      <th>1</th>\n",
       "      <td>-0.295347</td>\n",
       "      <td>1.203070</td>\n",
       "      <td>1.280308</td>\n",
       "      <td>1.428697</td>\n",
       "      <td>0.097417</td>\n",
       "      <td>0.331360</td>\n",
       "      <td>-1.013794</td>\n",
       "      <td>-1.018858</td>\n",
       "      <td>-1.034209</td>\n",
       "    </tr>\n",
       "    <tr>\n",
       "      <th>2</th>\n",
       "      <td>1.302144</td>\n",
       "      <td>0.855331</td>\n",
       "      <td>1.280308</td>\n",
       "      <td>0.831485</td>\n",
       "      <td>-0.660896</td>\n",
       "      <td>-0.843396</td>\n",
       "      <td>0.986394</td>\n",
       "      <td>-1.018858</td>\n",
       "      <td>0.966923</td>\n",
       "    </tr>\n",
       "    <tr>\n",
       "      <th>3</th>\n",
       "      <td>1.557672</td>\n",
       "      <td>-0.702837</td>\n",
       "      <td>0.035650</td>\n",
       "      <td>-0.960150</td>\n",
       "      <td>-1.299476</td>\n",
       "      <td>1.506117</td>\n",
       "      <td>0.986394</td>\n",
       "      <td>-1.018858</td>\n",
       "      <td>0.966923</td>\n",
       "    </tr>\n",
       "    <tr>\n",
       "      <th>4</th>\n",
       "      <td>-0.752815</td>\n",
       "      <td>1.550883</td>\n",
       "      <td>0.035650</td>\n",
       "      <td>0.234274</td>\n",
       "      <td>-0.142050</td>\n",
       "      <td>1.506117</td>\n",
       "      <td>0.986394</td>\n",
       "      <td>0.981491</td>\n",
       "      <td>-1.034209</td>\n",
       "    </tr>\n",
       "  </tbody>\n",
       "</table>\n",
       "</div>"
      ],
      "text/plain": [
       "        HHI      HHDL   Married  CollegGrads    AHHAge      Cars  \\\n",
       "0  0.322956  0.004958  0.035650    -0.362938 -1.299476 -0.843396   \n",
       "1 -0.295347  1.203070  1.280308     1.428697  0.097417  0.331360   \n",
       "2  1.302144  0.855331  1.280308     0.831485 -0.660896 -0.843396   \n",
       "3  1.557672 -0.702837  0.035650    -0.960150 -1.299476  1.506117   \n",
       "4 -0.752815  1.550883  0.035650     0.234274 -0.142050  1.506117   \n",
       "\n",
       "   Filed in 2017  Filed in 2016  Filed in 2015  \n",
       "0      -1.013794      -1.018858       0.966923  \n",
       "1      -1.013794      -1.018858      -1.034209  \n",
       "2       0.986394      -1.018858       0.966923  \n",
       "3       0.986394      -1.018858       0.966923  \n",
       "4       0.986394       0.981491      -1.034209  "
      ]
     },
     "execution_count": 18,
     "metadata": {},
     "output_type": "execute_result"
    }
   ],
   "source": [
    "X_train.head()"
   ]
  },
  {
   "cell_type": "code",
   "execution_count": 19,
   "id": "3b749da9",
   "metadata": {},
   "outputs": [
    {
     "data": {
      "text/html": [
       "<div>\n",
       "<style scoped>\n",
       "    .dataframe tbody tr th:only-of-type {\n",
       "        vertical-align: middle;\n",
       "    }\n",
       "\n",
       "    .dataframe tbody tr th {\n",
       "        vertical-align: top;\n",
       "    }\n",
       "\n",
       "    .dataframe thead th {\n",
       "        text-align: right;\n",
       "    }\n",
       "</style>\n",
       "<table border=\"1\" class=\"dataframe\">\n",
       "  <thead>\n",
       "    <tr style=\"text-align: right;\">\n",
       "      <th></th>\n",
       "      <th>Unnamed: 0</th>\n",
       "      <th>HHI</th>\n",
       "      <th>HHDL</th>\n",
       "      <th>Married</th>\n",
       "      <th>CollegGrads</th>\n",
       "      <th>AHHAge</th>\n",
       "      <th>Cars</th>\n",
       "      <th>Filed in 2017</th>\n",
       "      <th>Filed in 2016</th>\n",
       "      <th>Filed in 2015</th>\n",
       "    </tr>\n",
       "  </thead>\n",
       "  <tbody>\n",
       "    <tr>\n",
       "      <th>count</th>\n",
       "      <td>201.000000</td>\n",
       "      <td>201.00000</td>\n",
       "      <td>201.000000</td>\n",
       "      <td>201.000000</td>\n",
       "      <td>201.000000</td>\n",
       "      <td>201.000000</td>\n",
       "      <td>201.000000</td>\n",
       "      <td>201.000000</td>\n",
       "      <td>201.000000</td>\n",
       "      <td>201.000000</td>\n",
       "    </tr>\n",
       "    <tr>\n",
       "      <th>mean</th>\n",
       "      <td>503.532338</td>\n",
       "      <td>146021.20398</td>\n",
       "      <td>28027.970149</td>\n",
       "      <td>0.965174</td>\n",
       "      <td>2.547264</td>\n",
       "      <td>60.651741</td>\n",
       "      <td>2.492537</td>\n",
       "      <td>0.512438</td>\n",
       "      <td>0.527363</td>\n",
       "      <td>0.482587</td>\n",
       "    </tr>\n",
       "    <tr>\n",
       "      <th>std</th>\n",
       "      <td>296.674907</td>\n",
       "      <td>83432.62547</td>\n",
       "      <td>588184.526824</td>\n",
       "      <td>0.820842</td>\n",
       "      <td>1.737528</td>\n",
       "      <td>23.996210</td>\n",
       "      <td>1.697408</td>\n",
       "      <td>0.501093</td>\n",
       "      <td>0.500497</td>\n",
       "      <td>0.500944</td>\n",
       "    </tr>\n",
       "    <tr>\n",
       "      <th>min</th>\n",
       "      <td>4.000000</td>\n",
       "      <td>1418.00000</td>\n",
       "      <td>-993611.000000</td>\n",
       "      <td>0.000000</td>\n",
       "      <td>0.000000</td>\n",
       "      <td>20.000000</td>\n",
       "      <td>0.000000</td>\n",
       "      <td>0.000000</td>\n",
       "      <td>0.000000</td>\n",
       "      <td>0.000000</td>\n",
       "    </tr>\n",
       "    <tr>\n",
       "      <th>25%</th>\n",
       "      <td>249.000000</td>\n",
       "      <td>85083.00000</td>\n",
       "      <td>-488672.000000</td>\n",
       "      <td>0.000000</td>\n",
       "      <td>1.000000</td>\n",
       "      <td>40.000000</td>\n",
       "      <td>1.000000</td>\n",
       "      <td>0.000000</td>\n",
       "      <td>0.000000</td>\n",
       "      <td>0.000000</td>\n",
       "    </tr>\n",
       "    <tr>\n",
       "      <th>50%</th>\n",
       "      <td>510.000000</td>\n",
       "      <td>137468.00000</td>\n",
       "      <td>73466.000000</td>\n",
       "      <td>1.000000</td>\n",
       "      <td>2.000000</td>\n",
       "      <td>61.000000</td>\n",
       "      <td>3.000000</td>\n",
       "      <td>1.000000</td>\n",
       "      <td>1.000000</td>\n",
       "      <td>0.000000</td>\n",
       "    </tr>\n",
       "    <tr>\n",
       "      <th>75%</th>\n",
       "      <td>748.000000</td>\n",
       "      <td>220331.00000</td>\n",
       "      <td>529624.000000</td>\n",
       "      <td>2.000000</td>\n",
       "      <td>4.000000</td>\n",
       "      <td>79.000000</td>\n",
       "      <td>4.000000</td>\n",
       "      <td>1.000000</td>\n",
       "      <td>1.000000</td>\n",
       "      <td>1.000000</td>\n",
       "    </tr>\n",
       "    <tr>\n",
       "      <th>max</th>\n",
       "      <td>990.000000</td>\n",
       "      <td>299700.00000</td>\n",
       "      <td>985448.000000</td>\n",
       "      <td>2.000000</td>\n",
       "      <td>5.000000</td>\n",
       "      <td>105.000000</td>\n",
       "      <td>5.000000</td>\n",
       "      <td>1.000000</td>\n",
       "      <td>1.000000</td>\n",
       "      <td>1.000000</td>\n",
       "    </tr>\n",
       "  </tbody>\n",
       "</table>\n",
       "</div>"
      ],
      "text/plain": [
       "       Unnamed: 0           HHI           HHDL     Married  CollegGrads  \\\n",
       "count  201.000000     201.00000     201.000000  201.000000   201.000000   \n",
       "mean   503.532338  146021.20398   28027.970149    0.965174     2.547264   \n",
       "std    296.674907   83432.62547  588184.526824    0.820842     1.737528   \n",
       "min      4.000000    1418.00000 -993611.000000    0.000000     0.000000   \n",
       "25%    249.000000   85083.00000 -488672.000000    0.000000     1.000000   \n",
       "50%    510.000000  137468.00000   73466.000000    1.000000     2.000000   \n",
       "75%    748.000000  220331.00000  529624.000000    2.000000     4.000000   \n",
       "max    990.000000  299700.00000  985448.000000    2.000000     5.000000   \n",
       "\n",
       "           AHHAge        Cars  Filed in 2017  Filed in 2016  Filed in 2015  \n",
       "count  201.000000  201.000000     201.000000     201.000000     201.000000  \n",
       "mean    60.651741    2.492537       0.512438       0.527363       0.482587  \n",
       "std     23.996210    1.697408       0.501093       0.500497       0.500944  \n",
       "min     20.000000    0.000000       0.000000       0.000000       0.000000  \n",
       "25%     40.000000    1.000000       0.000000       0.000000       0.000000  \n",
       "50%     61.000000    3.000000       1.000000       1.000000       0.000000  \n",
       "75%     79.000000    4.000000       1.000000       1.000000       1.000000  \n",
       "max    105.000000    5.000000       1.000000       1.000000       1.000000  "
      ]
     },
     "execution_count": 19,
     "metadata": {},
     "output_type": "execute_result"
    }
   ],
   "source": [
    "taxtest_data.describe()"
   ]
  },
  {
   "cell_type": "code",
   "execution_count": 20,
   "id": "bc0849a3",
   "metadata": {},
   "outputs": [],
   "source": [
    "from sklearn.preprocessing import StandardScaler\n",
    "std_scale = StandardScaler()\n",
    "X_test= std_scale.fit_transform(taxtest_data)"
   ]
  },
  {
   "cell_type": "code",
   "execution_count": 21,
   "id": "960d57fe",
   "metadata": {},
   "outputs": [
    {
     "data": {
      "text/html": [
       "<div>\n",
       "<style scoped>\n",
       "    .dataframe tbody tr th:only-of-type {\n",
       "        vertical-align: middle;\n",
       "    }\n",
       "\n",
       "    .dataframe tbody tr th {\n",
       "        vertical-align: top;\n",
       "    }\n",
       "\n",
       "    .dataframe thead th {\n",
       "        text-align: right;\n",
       "    }\n",
       "</style>\n",
       "<table border=\"1\" class=\"dataframe\">\n",
       "  <thead>\n",
       "    <tr style=\"text-align: right;\">\n",
       "      <th></th>\n",
       "      <th>Unnamed: 0</th>\n",
       "      <th>HHI</th>\n",
       "      <th>HHDL</th>\n",
       "      <th>Married</th>\n",
       "      <th>CollegGrads</th>\n",
       "      <th>AHHAge</th>\n",
       "      <th>Cars</th>\n",
       "      <th>Filed in 2017</th>\n",
       "      <th>Filed in 2016</th>\n",
       "      <th>Filed in 2015</th>\n",
       "    </tr>\n",
       "  </thead>\n",
       "  <tbody>\n",
       "    <tr>\n",
       "      <th>0</th>\n",
       "      <td>-1.644046</td>\n",
       "      <td>1.288712</td>\n",
       "      <td>-1.127932</td>\n",
       "      <td>1.263837</td>\n",
       "      <td>-0.892720</td>\n",
       "      <td>1.393200</td>\n",
       "      <td>0.299710</td>\n",
       "      <td>-1.025193</td>\n",
       "      <td>0.946692</td>\n",
       "      <td>1.035454</td>\n",
       "    </tr>\n",
       "    <tr>\n",
       "      <th>1</th>\n",
       "      <td>0.292184</td>\n",
       "      <td>-1.188518</td>\n",
       "      <td>0.502492</td>\n",
       "      <td>-1.178771</td>\n",
       "      <td>-0.892720</td>\n",
       "      <td>-1.280547</td>\n",
       "      <td>-0.290895</td>\n",
       "      <td>0.975426</td>\n",
       "      <td>0.946692</td>\n",
       "      <td>-0.965760</td>\n",
       "    </tr>\n",
       "    <tr>\n",
       "      <th>2</th>\n",
       "      <td>-0.944570</td>\n",
       "      <td>-0.410301</td>\n",
       "      <td>0.464541</td>\n",
       "      <td>-1.178771</td>\n",
       "      <td>-0.315753</td>\n",
       "      <td>-0.612110</td>\n",
       "      <td>0.299710</td>\n",
       "      <td>-1.025193</td>\n",
       "      <td>0.946692</td>\n",
       "      <td>1.035454</td>\n",
       "    </tr>\n",
       "    <tr>\n",
       "      <th>3</th>\n",
       "      <td>1.542454</td>\n",
       "      <td>-0.592987</td>\n",
       "      <td>0.135313</td>\n",
       "      <td>-1.178771</td>\n",
       "      <td>0.261214</td>\n",
       "      <td>0.682986</td>\n",
       "      <td>1.480919</td>\n",
       "      <td>-1.025193</td>\n",
       "      <td>-1.056309</td>\n",
       "      <td>-0.965760</td>\n",
       "    </tr>\n",
       "    <tr>\n",
       "      <th>4</th>\n",
       "      <td>-1.508881</td>\n",
       "      <td>-0.208498</td>\n",
       "      <td>0.533892</td>\n",
       "      <td>-1.178771</td>\n",
       "      <td>-1.469688</td>\n",
       "      <td>1.309646</td>\n",
       "      <td>0.890314</td>\n",
       "      <td>0.975426</td>\n",
       "      <td>0.946692</td>\n",
       "      <td>1.035454</td>\n",
       "    </tr>\n",
       "  </tbody>\n",
       "</table>\n",
       "</div>"
      ],
      "text/plain": [
       "   Unnamed: 0       HHI      HHDL   Married  CollegGrads    AHHAge      Cars  \\\n",
       "0   -1.644046  1.288712 -1.127932  1.263837    -0.892720  1.393200  0.299710   \n",
       "1    0.292184 -1.188518  0.502492 -1.178771    -0.892720 -1.280547 -0.290895   \n",
       "2   -0.944570 -0.410301  0.464541 -1.178771    -0.315753 -0.612110  0.299710   \n",
       "3    1.542454 -0.592987  0.135313 -1.178771     0.261214  0.682986  1.480919   \n",
       "4   -1.508881 -0.208498  0.533892 -1.178771    -1.469688  1.309646  0.890314   \n",
       "\n",
       "   Filed in 2017  Filed in 2016  Filed in 2015  \n",
       "0      -1.025193       0.946692       1.035454  \n",
       "1       0.975426       0.946692      -0.965760  \n",
       "2      -1.025193       0.946692       1.035454  \n",
       "3      -1.025193      -1.056309      -0.965760  \n",
       "4       0.975426       0.946692       1.035454  "
      ]
     },
     "execution_count": 21,
     "metadata": {},
     "output_type": "execute_result"
    }
   ],
   "source": [
    "X_test=pd.DataFrame(data=X_test,columns=taxtest_data.columns[:])\n",
    "X_test.head()"
   ]
  },
  {
   "cell_type": "code",
   "execution_count": 22,
   "id": "15314bc7",
   "metadata": {},
   "outputs": [
    {
     "data": {
      "text/plain": [
       "Index(['HHI', 'HHDL', 'Married', 'CollegGrads', 'AHHAge', 'Cars',\n",
       "       'Filed in 2017', 'Filed in 2016', 'Filed in 2015'],\n",
       "      dtype='object')"
      ]
     },
     "execution_count": 22,
     "metadata": {},
     "output_type": "execute_result"
    }
   ],
   "source": [
    "X_test= X_test.drop('Unnamed: 0', axis= 1)\n",
    "\n",
    "X_test.columns"
   ]
  },
  {
   "cell_type": "code",
   "execution_count": 23,
   "id": "c6194b3e",
   "metadata": {},
   "outputs": [],
   "source": [
    "X = trainx_data\n",
    "y = y_train\n",
    "\n",
    "X_train, X_val, y_train, y_val = train_test_split(X, y, train_size=0.8, random_state= 42)"
   ]
  },
  {
   "cell_type": "code",
   "execution_count": 24,
   "id": "d36b1f7f",
   "metadata": {},
   "outputs": [],
   "source": [
    "logmodel = LogisticRegression()\n",
    "logmodel.fit(X_train,y_train)\n",
    "\n",
    "logmodel_predictions = logmodel.predict(X_val)"
   ]
  },
  {
   "cell_type": "code",
   "execution_count": 25,
   "id": "2666a71a",
   "metadata": {},
   "outputs": [
    {
     "name": "stdout",
     "output_type": "stream",
     "text": [
      "              precision    recall  f1-score   support\n",
      "\n",
      "    Democrat       0.00      0.00      0.00        53\n",
      " Independent       0.35      0.48      0.41        58\n",
      "  Republican       0.32      0.52      0.39        50\n",
      "\n",
      "    accuracy                           0.34       161\n",
      "   macro avg       0.22      0.33      0.27       161\n",
      "weighted avg       0.23      0.34      0.27       161\n",
      "\n"
     ]
    },
    {
     "name": "stderr",
     "output_type": "stream",
     "text": [
      "C:\\Users\\Adrija\\anaconda3\\lib\\site-packages\\sklearn\\metrics\\_classification.py:1248: UndefinedMetricWarning: Precision and F-score are ill-defined and being set to 0.0 in labels with no predicted samples. Use `zero_division` parameter to control this behavior.\n",
      "  _warn_prf(average, modifier, msg_start, len(result))\n",
      "C:\\Users\\Adrija\\anaconda3\\lib\\site-packages\\sklearn\\metrics\\_classification.py:1248: UndefinedMetricWarning: Precision and F-score are ill-defined and being set to 0.0 in labels with no predicted samples. Use `zero_division` parameter to control this behavior.\n",
      "  _warn_prf(average, modifier, msg_start, len(result))\n",
      "C:\\Users\\Adrija\\anaconda3\\lib\\site-packages\\sklearn\\metrics\\_classification.py:1248: UndefinedMetricWarning: Precision and F-score are ill-defined and being set to 0.0 in labels with no predicted samples. Use `zero_division` parameter to control this behavior.\n",
      "  _warn_prf(average, modifier, msg_start, len(result))\n"
     ]
    }
   ],
   "source": [
    "from sklearn.metrics import classification_report\n",
    "\n",
    "print(classification_report(y_val, logmodel_predictions))"
   ]
  },
  {
   "cell_type": "code",
   "execution_count": 26,
   "id": "d5ca8bc8",
   "metadata": {},
   "outputs": [],
   "source": [
    "from sklearn.tree import DecisionTreeClassifier\n",
    "\n",
    "clf = DecisionTreeClassifier(max_depth=7, random_state=42)\n",
    "clf.fit(X_train,y_train)\n",
    "\n",
    "clf_predictions = clf.predict(X_val)"
   ]
  },
  {
   "cell_type": "code",
   "execution_count": 27,
   "id": "9c2b05f1",
   "metadata": {},
   "outputs": [
    {
     "name": "stdout",
     "output_type": "stream",
     "text": [
      "              precision    recall  f1-score   support\n",
      "\n",
      "    Democrat       0.50      0.26      0.35        53\n",
      " Independent       0.42      0.45      0.43        58\n",
      "  Republican       0.32      0.46      0.38        50\n",
      "\n",
      "    accuracy                           0.39       161\n",
      "   macro avg       0.41      0.39      0.39       161\n",
      "weighted avg       0.42      0.39      0.39       161\n",
      "\n"
     ]
    }
   ],
   "source": [
    "print(classification_report(y_val, clf_predictions))"
   ]
  },
  {
   "cell_type": "code",
   "execution_count": 28,
   "id": "30407028",
   "metadata": {},
   "outputs": [
    {
     "data": {
      "text/plain": [
       "KNeighborsClassifier()"
      ]
     },
     "execution_count": 28,
     "metadata": {},
     "output_type": "execute_result"
    }
   ],
   "source": [
    "from sklearn.neighbors import KNeighborsClassifier\n",
    "\n",
    "neigh = KNeighborsClassifier()\n",
    "neigh.fit(X_train, y_train)"
   ]
  },
  {
   "cell_type": "code",
   "execution_count": 29,
   "id": "b7ed4041",
   "metadata": {},
   "outputs": [
    {
     "name": "stderr",
     "output_type": "stream",
     "text": [
      "C:\\Users\\Adrija\\anaconda3\\lib\\site-packages\\sklearn\\svm\\_base.py:985: ConvergenceWarning: Liblinear failed to converge, increase the number of iterations.\n",
      "  warnings.warn(\"Liblinear failed to converge, increase \"\n",
      "C:\\Users\\Adrija\\anaconda3\\lib\\site-packages\\sklearn\\svm\\_base.py:985: ConvergenceWarning: Liblinear failed to converge, increase the number of iterations.\n",
      "  warnings.warn(\"Liblinear failed to converge, increase \"\n",
      "C:\\Users\\Adrija\\anaconda3\\lib\\site-packages\\sklearn\\svm\\_base.py:985: ConvergenceWarning: Liblinear failed to converge, increase the number of iterations.\n",
      "  warnings.warn(\"Liblinear failed to converge, increase \"\n"
     ]
    }
   ],
   "source": [
    "from sklearn.multiclass import OneVsRestClassifier\n",
    "from sklearn.svm import LinearSVC\n",
    "one= OneVsRestClassifier(LinearSVC(random_state=0)).fit(X_train, y_train)\n",
    "\n",
    "one_predictions = one.predict(X_val)"
   ]
  },
  {
   "cell_type": "code",
   "execution_count": 30,
   "id": "40d07f2d",
   "metadata": {},
   "outputs": [
    {
     "name": "stdout",
     "output_type": "stream",
     "text": [
      "              precision    recall  f1-score   support\n",
      "\n",
      "    Democrat       0.32      0.47      0.38        53\n",
      " Independent       0.35      0.47      0.40        58\n",
      "  Republican       0.29      0.04      0.07        50\n",
      "\n",
      "    accuracy                           0.34       161\n",
      "   macro avg       0.32      0.33      0.28       161\n",
      "weighted avg       0.32      0.34      0.29       161\n",
      "\n"
     ]
    }
   ],
   "source": [
    "print(classification_report(y_val, one_predictions))"
   ]
  },
  {
   "cell_type": "code",
   "execution_count": 31,
   "id": "adfbb996",
   "metadata": {},
   "outputs": [
    {
     "data": {
      "text/plain": [
       "RandomForestClassifier()"
      ]
     },
     "execution_count": 31,
     "metadata": {},
     "output_type": "execute_result"
    }
   ],
   "source": [
    "from sklearn.ensemble import RandomForestClassifier\n",
    "from sklearn.datasets import make_classification\n",
    "\n",
    "rdf = RandomForestClassifier(n_estimators= 100)\n",
    "rdf.fit(X_train, y_train)"
   ]
  },
  {
   "cell_type": "code",
   "execution_count": 32,
   "id": "131709c3",
   "metadata": {},
   "outputs": [
    {
     "name": "stdout",
     "output_type": "stream",
     "text": [
      "              precision    recall  f1-score   support\n",
      "\n",
      "    Democrat       0.38      0.40      0.39        53\n",
      " Independent       0.48      0.40      0.43        58\n",
      "  Republican       0.31      0.36      0.33        50\n",
      "\n",
      "    accuracy                           0.39       161\n",
      "   macro avg       0.39      0.38      0.39       161\n",
      "weighted avg       0.39      0.39      0.39       161\n",
      "\n"
     ]
    }
   ],
   "source": [
    "rdf_predictions = rdf.predict(X_val)\n",
    "print(classification_report(y_val, rdf_predictions))"
   ]
  },
  {
   "cell_type": "code",
   "execution_count": 33,
   "id": "8e99a337",
   "metadata": {},
   "outputs": [
    {
     "name": "stderr",
     "output_type": "stream",
     "text": [
      "C:\\Users\\Adrija\\anaconda3\\lib\\site-packages\\sklearn\\svm\\_base.py:985: ConvergenceWarning: Liblinear failed to converge, increase the number of iterations.\n",
      "  warnings.warn(\"Liblinear failed to converge, increase \"\n",
      "C:\\Users\\Adrija\\anaconda3\\lib\\site-packages\\sklearn\\svm\\_base.py:985: ConvergenceWarning: Liblinear failed to converge, increase the number of iterations.\n",
      "  warnings.warn(\"Liblinear failed to converge, increase \"\n",
      "C:\\Users\\Adrija\\anaconda3\\lib\\site-packages\\sklearn\\svm\\_base.py:985: ConvergenceWarning: Liblinear failed to converge, increase the number of iterations.\n",
      "  warnings.warn(\"Liblinear failed to converge, increase \"\n"
     ]
    }
   ],
   "source": [
    "from sklearn.tree import DecisionTreeClassifier\n",
    "\n",
    "clf = DecisionTreeClassifier(max_depth=7, random_state=42)\n",
    "clf.fit(X_train,y_train)\n",
    "\n",
    "clf_predictions = clf.predict(X_test)\n",
    "\n",
    "rdf = RandomForestClassifier(n_estimators= 100)\n",
    "rdf.fit(X_train, y_train)\n",
    "\n",
    "rdf_predictions = rdf.predict(X_test)\n",
    "\n",
    "one= OneVsRestClassifier(LinearSVC(random_state=0)).fit(X_train, y_train)\n",
    "\n",
    "one_predictions = one.predict(X_test)"
   ]
  },
  {
   "cell_type": "code",
   "execution_count": 34,
   "id": "e5af79e1",
   "metadata": {},
   "outputs": [],
   "source": [
    "output = pd.DataFrame({'Prediction': one_predictions})\n",
    "output.to_csv(r'C:\\Users\\Adrija\\Documents\\Python\\politicalparty.csv', index=False)"
   ]
  },
  {
   "cell_type": "code",
   "execution_count": null,
   "id": "1e770336",
   "metadata": {},
   "outputs": [],
   "source": []
  }
 ],
 "metadata": {
  "kernelspec": {
   "display_name": "Python 3 (ipykernel)",
   "language": "python",
   "name": "python3"
  },
  "language_info": {
   "codemirror_mode": {
    "name": "ipython",
    "version": 3
   },
   "file_extension": ".py",
   "mimetype": "text/x-python",
   "name": "python",
   "nbconvert_exporter": "python",
   "pygments_lexer": "ipython3",
   "version": "3.9.7"
  }
 },
 "nbformat": 4,
 "nbformat_minor": 5
}
